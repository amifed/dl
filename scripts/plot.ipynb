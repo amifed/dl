{
 "cells": [
  {
   "cell_type": "code",
   "execution_count": 169,
   "metadata": {},
   "outputs": [],
   "source": [
    "import numpy as np\n",
    "import matplotlib.pyplot as plt\n",
    "from mpl_toolkits.axisartist.axislines import AxesZero"
   ]
  },
  {
   "cell_type": "code",
   "execution_count": 170,
   "metadata": {},
   "outputs": [],
   "source": [
    "x = np.linspace(-10, 10, 100)\n",
    "\n",
    "def Sigmoid():\n",
    "    y = 1 / (1 + np.exp(-x))\n",
    "    return (x, y)\n",
    "\n",
    "def Tanh():\n",
    "    y = np.tanh(x)\n",
    "    return (x, y)\n",
    "\n",
    "def ReLU():\n",
    "    y = np.where(x < 0, 0, x)\n",
    "    return (x, y)"
   ]
  },
  {
   "cell_type": "code",
   "execution_count": 171,
   "metadata": {},
   "outputs": [
    {
     "data": {
      "image/png": "[encoded data removed]",
      "text/plain": [
       "<Figure size 432x288 with 1 Axes>"
      ]
     },
     "metadata": {
      "needs_background": "light"
     },
     "output_type": "display_data"
    }
   ],
   "source": [
    "fig = plt.figure()\n",
    "ax = fig.add_subplot(axes_class=AxesZero)\n",
    "\n",
    "for direction in [\"xzero\", \"yzero\"]:\n",
    "    # adds arrows at the ends of each axis\n",
    "    # ax.axis[direction].set_axisline_style(r\"-|>\")\n",
    "    # adds X and Y-axis from the origin\n",
    "    ax.axis[direction].set_visible(True)\n",
    "\n",
    "for direction in [\"left\", \"right\", \"bottom\", \"top\"]:\n",
    "    # hides borders\n",
    "    ax.axis[direction].set_visible(False)\n",
    "\n",
    "x, y = Sigmoid()\n",
    "\n",
    "plt.plot(x, y, 'b', linewidth=1, label=r\"Sigmoid\")\n",
    "plt.ylim(-.6, 1.1)\n",
    "plt.xticks([-10, -5, 0, 5, 10])\n",
    "plt.yticks([-.5, .5, 1,])\n",
    "plt.legend(fontsize=14, loc='upper left')\n",
    "plt.savefig('../assets/sigmoid.png', dpi=1000, pad_inches=0.01)\n",
    "plt.show()\n"
   ]
  },
  {
   "cell_type": "code",
   "execution_count": 172,
   "metadata": {},
   "outputs": [
    {
     "data": {
      "image/png": "[encoded data removed]",
      "text/plain": [
       "<Figure size 432x288 with 1 Axes>"
      ]
     },
     "metadata": {
      "needs_background": "light"
     },
     "output_type": "display_data"
    }
   ],
   "source": [
    "fig = plt.figure()\n",
    "ax = fig.add_subplot(axes_class=AxesZero)\n",
    "\n",
    "for direction in [\"xzero\", \"yzero\"]:\n",
    "    # adds arrows at the ends of each axis\n",
    "    # ax.axis[direction].set_axisline_style(r\"-|>\")\n",
    "    # adds X and Y-axis from the origin\n",
    "    ax.axis[direction].set_visible(True)\n",
    "\n",
    "for direction in [\"left\", \"right\", \"bottom\", \"top\"]:\n",
    "    # hides borders\n",
    "    ax.axis[direction].set_visible(False)\n",
    "\n",
    "x, y = Tanh()\n",
    "\n",
    "plt.plot(x, y, 'b', linewidth=1, label=r\"Tanh\")\n",
    "plt.ylim(-1.1, 1.1)\n",
    "plt.xticks([-10, -5, 0, 5, 10])\n",
    "plt.yticks([-1, -.5, .5, 1,])\n",
    "plt.legend(fontsize=14, loc='upper left')\n",
    "plt.savefig('../assets/tanh.png', dpi=1000, pad_inches=0.01)\n",
    "plt.show()\n"
   ]
  },
  {
   "cell_type": "code",
   "execution_count": 176,
   "metadata": {},
   "outputs": [
    {
     "data": {
      "image/png": "[encoded data removed]",
      "text/plain": [
       "<Figure size 432x288 with 1 Axes>"
      ]
     },
     "metadata": {
      "needs_background": "light"
     },
     "output_type": "display_data"
    }
   ],
   "source": [
    "fig = plt.figure()\n",
    "ax = fig.add_subplot(axes_class=AxesZero)\n",
    "\n",
    "for direction in [\"xzero\", \"yzero\"]:\n",
    "    # adds arrows at the ends of each axis\n",
    "    # ax.axis[direction].set_axisline_style(r\"-|>\")\n",
    "    # adds X and Y-axis from the origin\n",
    "    ax.axis[direction].set_visible(True)\n",
    "\n",
    "for direction in [\"left\", \"right\", \"bottom\", \"top\"]:\n",
    "    # hides borders\n",
    "    ax.axis[direction].set_visible(False)\n",
    "\n",
    "x, y = ReLU()\n",
    "\n",
    "plt.plot(x, y, 'b', linewidth=1, label=r\"ReLU\")\n",
    "plt.ylim(-10.5, 10.5)\n",
    "plt.xticks([-10, -5, 0, 5, 10])\n",
    "plt.yticks([-10, -5, 5, 10])\n",
    "plt.legend(fontsize=14, loc='upper left')\n",
    "plt.savefig('../assets/relu.png', dpi=1000, pad_inches=0.01)\n",
    "plt.show()\n"
   ]
  },
  {
   "cell_type": "code",
   "execution_count": null,
   "metadata": {},
   "outputs": [],
   "source": []
  }
 ],
 "metadata": {
  "interpreter": {
   "hash": "5df3b7bfe1e2e539206d6f09e92f23ff3b8252503f4d284ee445314b24a6eba2"
  },
  "kernelspec": {
   "display_name": "Python 3.7.11 ('torch')",
   "language": "python",
   "name": "python3"
  },
  "language_info": {
   "codemirror_mode": {
    "name": "ipython",
    "version": 3
   },
   "file_extension": ".py",
   "mimetype": "text/x-python",
   "name": "python",
   "nbconvert_exporter": "python",
   "pygments_lexer": "ipython3",
   "version": "3.7.11"
  },
  "orig_nbformat": 4
 },
 "nbformat": 4,
 "nbformat_minor": 2
}
